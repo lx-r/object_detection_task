{
 "cells": [
  {
   "cell_type": "code",
   "execution_count": 20,
   "id": "62f38dc5",
   "metadata": {},
   "outputs": [
    {
     "name": "stdout",
     "output_type": "stream",
     "text": [
      "tensor([0.4750, 0.5498])\n",
      "-0.6713205890992439\n",
      "tensor(0.6713)\n"
     ]
    },
    {
     "data": {
      "text/plain": [
       "tensor(0.6713)"
      ]
     },
     "execution_count": 20,
     "metadata": {},
     "output_type": "execute_result"
    }
   ],
   "source": [
    "import torch\n",
    "import math\n",
    "y_pre = torch.tensor([-0.1, 0.2])\n",
    "y_pre_log = y_pre.sigmoid()\n",
    "print(y_pre_log)\n",
    "# tensor([0.4750, 0.5498])\n",
    "print((math.log(0.4750)+math.log(0.5498))/2)\n",
    "y_tar = torch.tensor([1.,1.])\n",
    "loss = torch.nn.BCELoss()\n",
    "\n",
    "print(loss(y_pre_log, y_tar))\n",
    "log_loss = torch.nn.BCEWithLogitsLoss()\n",
    "log_loss(y_pre, y_tar)"
   ]
  },
  {
   "cell_type": "code",
   "execution_count": 30,
   "id": "7fa63a1d",
   "metadata": {},
   "outputs": [
    {
     "name": "stdout",
     "output_type": "stream",
     "text": [
      "tensor(0.3828)\n"
     ]
    }
   ],
   "source": [
    "import torch\n",
    "tar = torch.tensor([[1.,1.,1.], [0.,1.,1.], [1., 0., 1.]])\n",
    "pre = torch.tensor([[0.9,0.8,0.5], [0.6,0.48,0.95], [0.9,0.1,0.6]])\n",
    "bceloss = torch.nn.BCELoss()\n",
    "print(bceloss(pre, tar))"
   ]
  },
  {
   "cell_type": "code",
   "execution_count": 20,
   "id": "42cddb43",
   "metadata": {},
   "outputs": [
    {
     "data": {
      "image/png": "[encoded data removed]",
      "text/plain": [
       "<Figure size 691.2x295.2 with 1 Axes>"
      ]
     },
     "metadata": {},
     "output_type": "display_data"
    }
   ],
   "source": [
    "from matplotlib import pyplot as plt\n",
    "import numpy as np\n",
    "x = np.linspace(0.001,0.999,100)\n",
    "c = 0\n",
    "y1 = - (1-c)*np.log(1-x) - c*np.log(x)\n",
    "c = 1\n",
    "y2 = - (1-c)*np.log(1-x) - c*np.log(x)\n",
    "plt.figure(figsize=(9.6,4.1),facecolor='gray',edgecolor='black')\n",
    "plt.xlim((0,1))\n",
    "plt.ylim((0,8))\n",
    "plt.xlabel('x',fontsize=12)\n",
    "plt.ylabel('y')\n",
    "plt.plot(x,y1,color='r', label=\"(y1)label:0\")\n",
    "plt.plot(x,y2,color='g',linewidth=1.3,linestyle='--', label=\"(y2)label:1\")\n",
    "plt.legend(loc='upper right')\n",
    "plt.savefig(\"bce.png\", dpi=300)\n",
    "plt.show()\n"
   ]
  },
  {
   "cell_type": "code",
   "execution_count": 26,
   "id": "b975bc4d",
   "metadata": {},
   "outputs": [
    {
     "data": {
      "text/plain": [
       "-0.10536051565782628"
      ]
     },
     "execution_count": 26,
     "metadata": {},
     "output_type": "execute_result"
    }
   ],
   "source": [
    "import math\n",
    "math.log(2)\n",
    "from math import log\n",
    "log(2)\n",
    "(1*log(0.9)+(1-1)*log(1-0.9))\n"
   ]
  },
  {
   "cell_type": "code",
   "execution_count": 28,
   "id": "1eaeb36e",
   "metadata": {},
   "outputs": [
    {
     "data": {
      "text/plain": [
       "-0.2231435513142097"
      ]
     },
     "execution_count": 28,
     "metadata": {},
     "output_type": "execute_result"
    }
   ],
   "source": [
    "(1*log(0.8)+(1-1)*log(1-0.8))"
   ]
  },
  {
   "cell_type": "code",
   "execution_count": 27,
   "id": "546a2e44",
   "metadata": {},
   "outputs": [
    {
     "data": {
      "text/plain": [
       "-0.6931471805599453"
      ]
     },
     "execution_count": 27,
     "metadata": {},
     "output_type": "execute_result"
    }
   ],
   "source": [
    "(1*log(0.5)+(1-1)*log(1-0.5))"
   ]
  },
  {
   "cell_type": "code",
   "execution_count": 30,
   "id": "e56a8787",
   "metadata": {},
   "outputs": [],
   "source": [
    "la=(1*log(0.9)+(1-1)*log(1-0.9))+(1*log(0.8)+(1-1)*log(1-0.8))+(1*log(0.5)+(1-1)*log(1-0.5))"
   ]
  },
  {
   "cell_type": "code",
   "execution_count": 31,
   "id": "fe6d60ca",
   "metadata": {},
   "outputs": [
    {
     "data": {
      "text/plain": [
       "-0.34055041584399376"
      ]
     },
     "execution_count": 31,
     "metadata": {},
     "output_type": "execute_result"
    }
   ],
   "source": [
    "la/3"
   ]
  },
  {
   "cell_type": "code",
   "execution_count": 33,
   "id": "3dee774f",
   "metadata": {},
   "outputs": [],
   "source": [
    "lb = (0*log(0.6)+(1-0)*log(1-0.6))+(1*log(0.48)+(1-1)*log(1-0.48))+(1*log(0.95)+(1-1)*log(1-0.95))"
   ]
  },
  {
   "cell_type": "code",
   "execution_count": 34,
   "id": "3b9acb40",
   "metadata": {},
   "outputs": [
    {
     "data": {
      "text/plain": [
       "-0.567184400447302"
      ]
     },
     "execution_count": 34,
     "metadata": {},
     "output_type": "execute_result"
    }
   ],
   "source": [
    "lb/3"
   ]
  },
  {
   "cell_type": "code",
   "execution_count": 36,
   "id": "48ab62f9",
   "metadata": {},
   "outputs": [],
   "source": [
    "lc = (1*log(0.9)+(1-1)*log(1-0.9))+(0*log(0.1)+(1-0)*log(1-0.1))+(1*log(0.6)+(1-1)*log(1-0.6))"
   ]
  },
  {
   "cell_type": "code",
   "execution_count": 37,
   "id": "4e66c8c4",
   "metadata": {},
   "outputs": [
    {
     "data": {
      "text/plain": [
       "-0.24051555169388109"
      ]
     },
     "execution_count": 37,
     "metadata": {},
     "output_type": "execute_result"
    }
   ],
   "source": [
    "lc/3\n"
   ]
  },
  {
   "cell_type": "code",
   "execution_count": 38,
   "id": "31d79a0e",
   "metadata": {},
   "outputs": [
    {
     "data": {
      "text/plain": [
       "-1.1482503679851768"
      ]
     },
     "execution_count": 38,
     "metadata": {},
     "output_type": "execute_result"
    }
   ],
   "source": [
    "-0.34055041584399376-0.567184400447302-0.24051555169388109"
   ]
  },
  {
   "cell_type": "code",
   "execution_count": 39,
   "id": "5f260959",
   "metadata": {},
   "outputs": [
    {
     "data": {
      "text/plain": [
       "-0.3827501226617256"
      ]
     },
     "execution_count": 39,
     "metadata": {},
     "output_type": "execute_result"
    }
   ],
   "source": [
    "-1.1482503679851768/3"
   ]
  },
  {
   "cell_type": "code",
   "execution_count": 41,
   "id": "a8f8116b",
   "metadata": {},
   "outputs": [
    {
     "data": {
      "text/plain": [
       "1.0"
      ]
     },
     "execution_count": 41,
     "metadata": {},
     "output_type": "execute_result"
    }
   ],
   "source": [
    "log(math.e)"
   ]
  },
  {
   "cell_type": "code",
   "execution_count": 49,
   "id": "a235e9c9",
   "metadata": {},
   "outputs": [
    {
     "data": {
      "image/png": "[encoded data removed]",
      "text/plain": [
       "<Figure size 691.2x295.2 with 1 Axes>"
      ]
     },
     "metadata": {},
     "output_type": "display_data"
    }
   ],
   "source": [
    "from matplotlib import pyplot as plt\n",
    "import numpy as np\n",
    "def smoothl1(x):\n",
    "    if abs(x) < 1:\n",
    "        return 0.5*pow(x,2)\n",
    "    else:\n",
    "        return abs(x)-0.5\n",
    "\n",
    "def l1(x):\n",
    "    return abs(x)\n",
    "x = np.linspace(-10, 10, 100)\n",
    "y1 = []\n",
    "y2 = []\n",
    "for e in list(x):\n",
    "    y1.append(smoothl1(e))\n",
    "y1 = np.array(y1)\n",
    "y2 = l1(x)\n",
    "y3 = 0.5*pow(x,2)\n",
    "plt.figure(figsize=(9.6,4.1),facecolor='gray',edgecolor='black')\n",
    "plt.xlim((-10,10))\n",
    "plt.ylim((-0.1,10))\n",
    "plt.xlabel('x',fontsize=12)\n",
    "plt.ylabel('y')\n",
    "plt.plot(x,y1,color='b', label=\"smoothL1\")\n",
    "plt.plot(x,y2,color='g', label=\"L1\")\n",
    "plt.plot(x,y3,color='r', label=\"L2\")\n",
    "plt.legend(loc='upper right')\n",
    "plt.savefig(\"smoothl1.png\", dpi=300)\n",
    "plt.show()\n"
   ]
  },
  {
   "cell_type": "code",
   "execution_count": 89,
   "id": "3d1a411d",
   "metadata": {},
   "outputs": [
    {
     "name": "stdout",
     "output_type": "stream",
     "text": [
      "[0 0 0]\n",
      "False\n"
     ]
    },
    {
     "ename": "ValueError",
     "evalue": "The truth value of an array with more than one element is ambiguous. Use a.any() or a.all()",
     "output_type": "error",
     "traceback": [
      "\u001b[0;31m---------------------------------------------------------------------------\u001b[0m",
      "\u001b[0;31mValueError\u001b[0m                                Traceback (most recent call last)",
      "\u001b[0;32m<ipython-input-89-ff75242fb471>\u001b[0m in \u001b[0;36m<module>\u001b[0;34m\u001b[0m\n\u001b[1;32m     18\u001b[0m         \u001b[0;32mfor\u001b[0m \u001b[0mii\u001b[0m \u001b[0;32min\u001b[0m \u001b[0mrange\u001b[0m\u001b[0;34m(\u001b[0m\u001b[0;36m70\u001b[0m\u001b[0;34m)\u001b[0m\u001b[0;34m:\u001b[0m\u001b[0;34m\u001b[0m\u001b[0;34m\u001b[0m\u001b[0m\n\u001b[1;32m     19\u001b[0m             \u001b[0;32mfor\u001b[0m \u001b[0mjj\u001b[0m \u001b[0;32min\u001b[0m \u001b[0mrange\u001b[0m\u001b[0;34m(\u001b[0m\u001b[0;36m80\u001b[0m\u001b[0;34m)\u001b[0m\u001b[0;34m:\u001b[0m\u001b[0;34m\u001b[0m\u001b[0;34m\u001b[0m\u001b[0m\n\u001b[0;32m---> 20\u001b[0;31m                 \u001b[0;32mif\u001b[0m \u001b[0many\u001b[0m\u001b[0;34m(\u001b[0m\u001b[0mrotated_image\u001b[0m\u001b[0;34m)\u001b[0m\u001b[0;34m:\u001b[0m\u001b[0;34m\u001b[0m\u001b[0;34m\u001b[0m\u001b[0m\n\u001b[0m\u001b[1;32m     21\u001b[0m                     \u001b[0mpimg\u001b[0m\u001b[0;34m[\u001b[0m\u001b[0mii\u001b[0m\u001b[0;34m,\u001b[0m\u001b[0mjj\u001b[0m\u001b[0;34m,\u001b[0m\u001b[0;34m:\u001b[0m\u001b[0;34m]\u001b[0m \u001b[0;34m=\u001b[0m \u001b[0mrotated_image\u001b[0m\u001b[0;34m[\u001b[0m\u001b[0mii\u001b[0m\u001b[0;34m,\u001b[0m\u001b[0mjj\u001b[0m\u001b[0;34m,\u001b[0m\u001b[0;34m:\u001b[0m\u001b[0;34m]\u001b[0m\u001b[0;34m\u001b[0m\u001b[0;34m\u001b[0m\u001b[0m\n\u001b[1;32m     22\u001b[0m         \u001b[0mimg\u001b[0m\u001b[0;34m[\u001b[0m\u001b[0mi\u001b[0m\u001b[0;34m*\u001b[0m\u001b[0;36m70\u001b[0m\u001b[0;34m:\u001b[0m\u001b[0;34m(\u001b[0m\u001b[0mi\u001b[0m\u001b[0;34m+\u001b[0m\u001b[0;36m1\u001b[0m\u001b[0;34m)\u001b[0m\u001b[0;34m*\u001b[0m\u001b[0;36m70\u001b[0m\u001b[0;34m,\u001b[0m\u001b[0mj\u001b[0m\u001b[0;34m*\u001b[0m\u001b[0;36m80\u001b[0m\u001b[0;34m:\u001b[0m\u001b[0;34m(\u001b[0m\u001b[0mj\u001b[0m\u001b[0;34m+\u001b[0m\u001b[0;36m1\u001b[0m\u001b[0;34m)\u001b[0m\u001b[0;34m*\u001b[0m\u001b[0;36m80\u001b[0m\u001b[0;34m,\u001b[0m\u001b[0;34m:\u001b[0m\u001b[0;34m]\u001b[0m \u001b[0;34m=\u001b[0m \u001b[0mpimg\u001b[0m\u001b[0;34m\u001b[0m\u001b[0;34m\u001b[0m\u001b[0m\n",
      "\u001b[0;31mValueError\u001b[0m: The truth value of an array with more than one element is ambiguous. Use a.any() or a.all()"
     ]
    }
   ],
   "source": [
    "import cv2\n",
    "img = cv2.imread(\"1.jpeg\")\n",
    "patch = img[200:270,270:350,:]\n",
    "center = (35, 40)\n",
    "rotate_matrix = cv2.getRotationMatrix2D(center=center, angle=135, scale=1)\n",
    "rotated_image = cv2.warpAffine(src=patch, M=rotate_matrix, dsize=(80, 70))\n",
    "\n",
    "w, h, c = img.shape\n",
    "print(rotated_image[0][0])\n",
    "print(any(rotated_image[0][0]))\n",
    "for i in range(w//140):\n",
    "    for j in range(h//180):\n",
    "        # src1 = img[i*70:(i+1)*70,j*80:(j+1)*80,:]\n",
    "        # src2 = rotated_image\n",
    "        # dst = alpha*src1 + src2*beta + gamma\n",
    "        # dst = cv2.addWeighted(src1, 0.1, src2, 0.9 , 0)\n",
    "        pimg = img[i*70:(i+1)*70,j*80:(j+1)*80,:]\n",
    "        for ii in range(70):\n",
    "            for jj in range(80):\n",
    "                if any(rotated_image):\n",
    "                    pimg[ii,jj,:] = rotated_image[ii,jj,:]\n",
    "        img[i*70:(i+1)*70,j*80:(j+1)*80,:] = pimg\n",
    "        \n",
    "img_rgb = cv2.cvtColor(img, cv2.COLOR_BGR2RGB)\n",
    "\n",
    "plt.figure(1)\n",
    "plt.subplot(1,2,1)\n",
    "plt.imshow(img_rgb)\n",
    "plt.subplot(1,2,2)\n",
    "plt.imshow(dst)"
   ]
  },
  {
   "cell_type": "code",
   "execution_count": null,
   "id": "8a2f268c",
   "metadata": {},
   "outputs": [],
   "source": []
  }
 ],
 "metadata": {
  "kernelspec": {
   "display_name": "Python 3",
   "language": "python",
   "name": "python3"
  },
  "language_info": {
   "codemirror_mode": {
    "name": "ipython",
    "version": 3
   },
   "file_extension": ".py",
   "mimetype": "text/x-python",
   "name": "python",
   "nbconvert_exporter": "python",
   "pygments_lexer": "ipython3",
   "version": "3.6.12"
  }
 },
 "nbformat": 4,
 "nbformat_minor": 5
}
