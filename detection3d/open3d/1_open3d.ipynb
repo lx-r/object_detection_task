{
 "cells": [
  {
   "cell_type": "markdown",
   "metadata": {},
   "source": [
    "# Open3d\n",
    "\n",
    "## 1.介绍\n",
    "Open3D has been in development since 2015 by Intel. \n",
    "\n",
    "So Far, the newest version is 0.17.0.\n",
    "\n",
    "The Open3D backend is implemented in C++11, is highly optimized, and is set up for OpenMP parallelization. \n",
    "\n",
    "使用Python binding,提供前端`Python`接口，后端用`C++11`实现。\n",
    "\n",
    "MIT license \n",
    "\n",
    "Introduction Thesis:[http://www.open3d.org/wordpress/wp-content/paper.pdf](http://www.open3d.org/wordpress/wp-content/paper.pdf)\n",
    "\n",
    "### 1.1与PCL相比\n",
    "\n",
    "Unfortunately, after an initial influx of open-\n",
    "source contributions, PCL became encumbered by bloat and\n",
    "is now largely dormant. \n",
    "\n",
    "\n",
    "Open3D的代码优化做的更充分，运行速度更快。`Open3D`中的`ICP`算法比`PCL`中的要快`25`倍。\n",
    "\n",
    "### 1.2主要功能\n",
    "\n",
    "- **法向量评估**\n",
    "- **ICP点云拼接**\n",
    "- **Volumetric integration**"
   ]
  },
  {
   "cell_type": "code",
   "execution_count": 32,
   "metadata": {},
   "outputs": [],
   "source": [
    "import open3d as o3d\n",
    "import numpy as np"
   ]
  },
  {
   "cell_type": "markdown",
   "metadata": {
    "tags": []
   },
   "source": [
    "## 文件读取\n",
    "\n",
    "Dataset Download URLS: [http://graphics.stanford.edu/data/3Dscanrep/](http://graphics.stanford.edu/data/3Dscanrep/)\n",
    "\n",
    "Point Cloud/Mesh/Model\n",
    "\n",
    "![](mesh_model_pc.png)\n",
    "\n",
    "### Open3d支持的`Mesh`文件类型\n",
    "![image.png](mesh_format_o3d.png)\n",
    "### Open3d支持的点云类型\n",
    "\n",
    "![image.png](pcd_format.png)"
   ]
  },
  {
   "cell_type": "code",
   "execution_count": 86,
   "metadata": {},
   "outputs": [
    {
     "name": "stdout",
     "output_type": "stream",
     "text": [
      "TriangleMesh with 100250 points and 202520 triangles.\n",
      "(202520, 3)\n",
      "(100250, 3)\n"
     ]
    }
   ],
   "source": [
    "filename = \"dragon_recon/dragon_vrip_res2.ply\"\n",
    "dragon_mesh = o3d.io.read_triangle_mesh(filename)\n",
    "print(dragon_mesh)\n",
    "dragon_mesh.compute_vertex_normals()\n",
    "print(np.asarray(dragon_mesh.triangles).shape)\n",
    "print(np.asarray(dragon_mesh.vertices).shape)\n",
    "o3d.visualization.draw_geometries([dragon_mesh])    # 可视化Mesh"
   ]
  },
  {
   "cell_type": "markdown",
   "metadata": {},
   "source": [
    "## 保存及可视化点云数据\n",
    "\n",
    "- **保存点云**： `write_point_cloud(filename, pointcloud, write_ascii=False, compressed=False, print_progress=False)`\n",
    "  Function to write PointCloud to file\n",
    "- **可视化点云**：\n",
    "    - 1. `draw_geometries(geometry_list, window_name='Open3D', width=1920, height=1080, left=50, top=50, point_show_normal=False, mesh_show_wireframe=False, mesh_show_back_face=False)` Function to draw a list of geometry.Geometry objects。\n",
    "使用`OpenGL`进行渲染。\n",
    "    - 2.`draw_geometries_with_key_callbacks`参考自[callback](http://whitewell.sakura.ne.jp/Open3D/CustomizedVisualization.html)"
   ]
  },
  {
   "cell_type": "code",
   "execution_count": 99,
   "metadata": {},
   "outputs": [],
   "source": [
    "dragon_pc = dragon_mesh.sample_points_uniformly(number_of_points=20000)\n",
    "save_file = \"dragon_recon/dragon_vrip_res2.pcd\"\n",
    "o3d.io.write_point_cloud(save_file, dragon_pc)\n",
    "o3d.visualization.draw_geometries([dragon_pc])    # 可视化点云 +/-可调点云的大小\n",
    "\n",
    "def rotate_callback(vis):\n",
    "    ctr = vis.get_view_control()\n",
    "    ctr.rotate(10.0, 0.0)\n",
    "    return False\n",
    "key_to_callback = dict()\n",
    "key_to_callback[ord(\"r\")] = rotate_callback\n",
    "o3d.visualization.draw_geometries_with_key_callbacks([dragon_pc], key_to_callback)"
   ]
  },
  {
   "cell_type": "markdown",
   "metadata": {},
   "source": [
    "## Voxel降采样\n",
    "\n",
    "刚刚随机采样生成点云时，number_of_points设置的是`20000`,点太多了的时候，可以使用体素`Voxel`来降采样。\n",
    "\n",
    "`voxel_down_sample(self, voxel_size)`\n",
    "    Function to downsample input pointcloud into output pointcloud with a voxel. Normals and colors are averaged if they exist.\n",
    "- **o3d.visualization.read_selection_polygon_volume** 通过空间多边形和最大最小距离来裁剪点云数据\n",
    "- **compute_convex_hull(...)** method of open3d.cpu.pybind.geometry.PointCloud instance,计算点云的凸包\n",
    "- **estimate_normals** 计算点云的法向量"
   ]
  },
  {
   "cell_type": "code",
   "execution_count": 91,
   "metadata": {},
   "outputs": [
    {
     "name": "stdout",
     "output_type": "stream",
     "text": [
      "PointCloud with 20000 points.\n",
      "std::vector<Eigen::Vector3d> with 4179 elements.\n",
      "Use numpy.asarray() to access data.\n",
      "[-0.39450818  0.35314528  0.84832288]\n"
     ]
    }
   ],
   "source": [
    "max_bound = dragon_pc.get_max_bound()\n",
    "min_bound = dragon_pc.get_min_bound()\n",
    "dx, dy, dz = max_bound - min_bound\n",
    "voxel_size = min([dx, dy, dz]) / 20\n",
    "print(dragon_pc)\n",
    "dragon_pc_downsampled = dragon_pc.voxel_down_sample(voxel_size=voxel_size)\n",
    "print(dragon_pc_downsampled.points)\n",
    "\n",
    "dragon_pc_downsampled.estimate_normals(o3d.geometry.KDTreeSearchParamHybrid(radius=0.1, max_nn=32)) \n",
    "o3d.visualization.draw_geometries([dragon_pc_downsampled], point_show_normal=True)\n",
    "\n",
    "dragon_normals = dragon_pc_downsampled.normals\n",
    "print(dragon_normals[0])"
   ]
  },
  {
   "cell_type": "code",
   "execution_count": 66,
   "metadata": {},
   "outputs": [
    {
     "name": "stdout",
     "output_type": "stream",
     "text": [
      "[Open3D INFO] Downloading https://github.com/isl-org/open3d_downloads/releases/download/20220201-data/DemoCropPointCloud.zip\n",
      "[Open3D INFO] Downloaded to /home/lx/open3d_data/download/DemoCropPointCloud/DemoCropPointCloud.zip\n",
      "[Open3D INFO] Created directory /home/lx/open3d_data/extract/DemoCropPointCloud.\n",
      "[Open3D INFO] Extracting /home/lx/open3d_data/download/DemoCropPointCloud/DemoCropPointCloud.zip.\n",
      "[Open3D INFO] Extracted to /home/lx/open3d_data/extract/DemoCropPointCloud.\n"
     ]
    }
   ],
   "source": [
    "demo_crop_data = o3d.data.DemoCropPointCloud()\n",
    "pcd = o3d.io.read_point_cloud(demo_crop_data.point_cloud_path)\n",
    "vol = o3d.visualization.read_selection_polygon_volume(demo_crop_data.cropped_json_path)\n",
    "chair = vol.crop_point_cloud(pcd)\n",
    "o3d.visualization.draw_geometries([chair],\n",
    "                                  zoom=0.7,\n",
    "                                  front=[0.5439, -0.2333, -0.8060],\n",
    "                                  lookat=[2.4615, 2.1331, 1.338],\n",
    "                                  up=[-0.1781, -0.9708, 0.1608])"
   ]
  },
  {
   "cell_type": "code",
   "execution_count": 84,
   "metadata": {},
   "outputs": [
    {
     "name": "stdout",
     "output_type": "stream",
     "text": [
      "{ 'axis_max': 4.022921085357666,\n",
      "  'axis_min': -0.763413667678833,\n",
      "  'bounding_polygon': [ [2.6509309513852526, 0.0, 1.6834473132326844],\n",
      "                        [2.578642824691715, 0.0, 1.6892074266735244],\n",
      "                        [2.4625790337552154, 0.0, 1.6665777078297999],\n",
      "                        [2.2228544982251655, 0.0, 1.6168160446813649],\n",
      "                        [2.166993206001413, 0.0, 1.6115495157201662],\n",
      "                        [2.1167895865303286, 0.0, 1.6257706054969348],\n",
      "                        [2.0634657721747383, 0.0, 1.623021658624539],\n",
      "                        [2.0568612343437236, 0.0, 1.5853892911207643],\n",
      "                        [2.1605399001237027, 0.0, 0.9622899325508302],\n",
      "                        [2.1956669387205228, 0.0, 0.9557274604978507],\n",
      "                        [2.2191318790575583, 0.0, 0.8873444998210875],\n",
      "                        [2.248488184792592, 0.0, 0.8704280726701363],\n",
      "                        [2.6891234157295827, 0.0, 0.941406779889676],\n",
      "                        [2.7328692490470647, 0.0, 0.9877574067484025],\n",
      "                        [2.7129337547575547, 0.0, 1.0398850034649203],\n",
      "                        [2.7592174072415405, 0.0, 1.0692940558509485],\n",
      "                        [2.768921641945343, 0.0, 1.0953914441371593],\n",
      "                        [2.685145562545567, 0.0, 1.6307334122162018],\n",
      "                        [2.671477609998124, 0.0, 1.675524657088997],\n",
      "                        [2.6579576128816544, 0.0, 1.6819127849749496]],\n",
      "  'class_name': 'SelectionPolygonVolume',\n",
      "  'orthogonal_axis': 'Y',\n",
      "  'version_major': 1,\n",
      "  'version_minor': 0}\n"
     ]
    }
   ],
   "source": [
    "import json\n",
    "import pprint\n",
    "pp = pprint.PrettyPrinter(2)\n",
    "\n",
    "with open(demo_crop_data.cropped_json_path) as f:\n",
    "    d = json.load(f)\n",
    "    pp.pprint(d)\n",
    "\n",
    "bounding_polygon = np.array(d[\"bounding_polygon\"])\n",
    "bounding_polygon_data = o3d.geometry.PointCloud()\n",
    "bounding_polygon_data.points = o3d.utility.Vector3dVector(bounding_polygon)\n",
    "bounding_polygon_data.paint_uniform_color([1, 0.6, 0])\n",
    "chair_dat = chair.random_down_sample(0.6)\n",
    "hull, _ = chair_dat.compute_convex_hull()\n",
    "hull_ls = o3d.geometry.LineSet.create_from_triangle_mesh(hull)\n",
    "hull_ls.paint_uniform_color((1, 0, 0))\n",
    "o3d.visualization.draw_geometries([bounding_polygon_data, hull_ls, chair_dat, o3d.geometry.TriangleMesh.create_coordinate_frame()])\n"
   ]
  },
  {
   "cell_type": "markdown",
   "metadata": {},
   "source": [
    "## 点云包围框\n",
    "\n",
    "![](bounding_box3d.png)\n",
    "\n",
    "有点`[0, 0, 0], [0, 1, 1], [1, 1, 0], [0, 0, 1]`\n",
    "\n",
    "- **1.get_axis_aligned_bounding_box** 如上图，红色部分包围框就是此函数求得的结果，包围矩形的相互平行的四条边都与坐标轴平行，类似`2D`图像中的水平包围框\n",
    "- **2.get_oriented_bounding_box** 如上图，绿色部分的包围框就是此函数求得的结果，给出的是空间中的最小包围矩形，类似`2D`图像中的旋转包围框\n"
   ]
  },
  {
   "cell_type": "code",
   "execution_count": 67,
   "metadata": {},
   "outputs": [],
   "source": [
    "printr_points = np.array([[0, 0, 0], [0, 1, 1], [1, 1, 0], [0, 0, 1]])\n",
    "four_pc = o3d.geometry.PointCloud()\n",
    "four_pc.points = o3d.utility.Vector3dVector(four_points)\n",
    "four_pc.paint_uniform_color([1, 0.2, 0.4])\n",
    "aabb = four_pc.get_axis_aligned_bounding_box()\n",
    "aabb.color = (1, 0, 0)\n",
    "obb = four_pc.get_oriented_bounding_box()\n",
    "obb.color = (0, 1, 0)\n",
    "o3d.visualization.draw_geometries([four_pc, aabb, obb, o3d.geometry.TriangleMesh.create_coordinate_frame()])    # 可视化点云\n"
   ]
  },
  {
   "cell_type": "markdown",
   "metadata": {},
   "source": [
    "## 点云与numpy数组转换"
   ]
  },
  {
   "cell_type": "code",
   "execution_count": 39,
   "metadata": {},
   "outputs": [
    {
     "name": "stdout",
     "output_type": "stream",
     "text": [
      "(4167, 3)\n"
     ]
    }
   ],
   "source": [
    "# 点云转成numpy数组\n",
    "print(np.asarray(dragon_pc_downsampled.points).shape) # std::vector<Eigen::Vector3d> to numpy array\n",
    "# numpy 数组构建点云\n",
    "random_pcd_points = np.random.randint(0, 255, (2000, 3))\n",
    "random_pcd = o3d.geometry.PointCloud()\n",
    "random_pcd.points = o3d.utility.Vector3dVector(random_pcd_points)\n",
    "random_pcd.paint_uniform_color([1, 0.7, 0])\n",
    "o3d.visualization.draw_geometries([random_pcd], width=1920, height=1080, left=50, top=50)"
   ]
  },
  {
   "cell_type": "markdown",
   "metadata": {},
   "source": [
    "## 裁剪Mesh\n"
   ]
  },
  {
   "cell_type": "code",
   "execution_count": 63,
   "metadata": {},
   "outputs": [
    {
     "name": "stdout",
     "output_type": "stream",
     "text": [
      "std::vector<Eigen::Vector3i> with 101260 elements.\n",
      "Use numpy.asarray() to access data.\n"
     ]
    }
   ],
   "source": [
    "filename = \"dragon_recon/dragon_vrip_res2.ply\"\n",
    "dragon_mesh = o3d.io.read_triangle_mesh(filename)\n",
    "dragon_mesh.triangles = o3d.utility.Vector3iVector(\n",
    "    np.asarray(dragon_mesh.triangles)[:len(dragon_mesh.triangles) // 2, :])\n",
    "dragon_mesh.triangle_normals = o3d.utility.Vector3dVector(\n",
    "    np.asarray(dragon_mesh.triangle_normals)[:len(dragon_mesh.triangle_normals) // 2, :])\n",
    "dragon_mesh.paint_uniform_color([1, 0.7,0])\n",
    "print(dragon_mesh.triangles)\n",
    "o3d.visualization.draw_geometries([dragon_mesh])"
   ]
  }
 ],
 "metadata": {
  "kernelspec": {
   "display_name": "Python 3 (ipykernel)",
   "language": "python",
   "name": "python3"
  },
  "language_info": {
   "codemirror_mode": {
    "name": "ipython",
    "version": 3
   },
   "file_extension": ".py",
   "mimetype": "text/x-python",
   "name": "python",
   "nbconvert_exporter": "python",
   "pygments_lexer": "ipython3",
   "version": "3.9.12"
  }
 },
 "nbformat": 4,
 "nbformat_minor": 4
}
